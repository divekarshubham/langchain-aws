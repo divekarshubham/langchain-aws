{
 "cells": [
  {
   "cell_type": "markdown",
   "metadata": {},
   "source": [
    "# Bedrock Inline Agents with Return of Control (RoC)\n",
    "\n",
    "In this notebook, we demonstrate how to use the BedrockInlineAgentsRunnable class to invoke a Bedrock Inline Agent with LangChain. This allows us to use Bedrock Agents without pre-creating them, providing more flexibility in runtime configurations.\n",
    "\n",
    "### Prerequisites:\n",
    "1. Set your AWS credentials for your environment, example: https://docs.aws.amazon.com/cli/v1/userguide/cli-configure-envvars.html#envvars-set.\n",
    "2. Ensure that langchain, langgraph, and boto3 are installed in the environment.\n",
    "3. Make sure the local langchain-aws package is accessible from the path or installed into the environment.\n",
    "\n",
    "## Example: Create a mortgage agent that determines the interest rate\n",
    "We'll create an inline agent with two tools: one to return asset values and another to return mortgage rates.\n",
    "\n",
    "### Step 1: Import necessary libraries and define tools"
   ]
  },
  {
   "cell_type": "code",
   "execution_count": 5,
   "metadata": {},
   "outputs": [
    {
     "name": "stdout",
     "output_type": "stream",
     "text": [
      "[StructuredTool(name='AssetDetail::getAssetValue', description='Get the asset value for an owner id\\n\\nArgs:\\n    asset_holder_id: The asset holder id\\n\\nReturns:\\n    The asset value for the given asset holder', args_schema=<class 'langchain_core.utils.pydantic.AssetDetail::getAssetValue'>, func=<function get_asset_value at 0x11a576c00>), StructuredTool(name='AssetDetail::getMortgageRate', description='Get the mortgage rate based on asset value\\n\\nArgs:\\n    asset_holder_id: The asset holder id\\n    asset_value: The value of the asset\\n\\nReturns:\\n    The interest rate for the asset holder and asset value', args_schema=<class 'langchain_core.utils.pydantic.AssetDetail::getMortgageRate'>, func=<function get_mortgage_rate at 0x11a576ca0>)]\n"
     ]
    }
   ],
   "source": [
    "from langchain_core.tools import tool\n",
    "from langchain.agents import AgentExecutor\n",
    "from langchain_aws.agents import BedrockInlineAgentsRunnable\n",
    "\n",
    "@tool(\"AssetDetail::getAssetValue\")\n",
    "def get_asset_value(asset_holder_id: str) -> str:\n",
    "    \"\"\"\n",
    "    Get the asset value for an owner id\n",
    "\n",
    "    Args:\n",
    "        asset_holder_id: The asset holder id\n",
    "\n",
    "    Returns:\n",
    "        The asset value for the given asset holder\n",
    "    \"\"\"\n",
    "    return f\"The total asset value for {asset_holder_id} is 100K\"\n",
    "\n",
    "@tool(\"AssetDetail::getMortgageRate\")\n",
    "def get_mortgage_rate(asset_holder_id: str, asset_value: str) -> str:\n",
    "    \"\"\"\n",
    "    Get the mortgage rate based on asset value\n",
    "\n",
    "    Args:\n",
    "        asset_holder_id: The asset holder id\n",
    "        asset_value: The value of the asset\n",
    "\n",
    "    Returns:\n",
    "        The interest rate for the asset holder and asset value\n",
    "    \"\"\"\n",
    "    return f\"The mortgage rate for {asset_holder_id} with asset value of {asset_value} is 8.87%\"\n",
    "\n",
    "tools = [get_asset_value, get_mortgage_rate]\n",
    "print(tools)"
   ]
  },
  {
   "cell_type": "markdown",
   "metadata": {},
   "source": [
    "### Step 2: Define the foundation model and instructions for the agent"
   ]
  },
  {
   "cell_type": "code",
   "execution_count": 6,
   "metadata": {},
   "outputs": [
    {
     "name": "stdout",
     "output_type": "stream",
     "text": [
      "Foundation Model: anthropic.claude-3-sonnet-20240229-v1:0\n",
      "Instructions: You are an agent who helps with getting the mortgage rate based on the current asset valuation\n"
     ]
    }
   ],
   "source": [
    "foundation_model = 'anthropic.claude-3-sonnet-20240229-v1:0'\n",
    "instructions = \"You are an agent who helps with getting the mortgage rate based on the current asset valuation\"\n",
    "\n",
    "print(f\"Foundation Model: {foundation_model}\")\n",
    "print(f\"Instructions: {instructions}\")"
   ]
  },
  {
   "cell_type": "markdown",
   "metadata": {},
   "source": [
    "### Step 3: Create the BedrockInlineAgentsRunnable"
   ]
  },
  {
   "cell_type": "code",
   "execution_count": 7,
   "metadata": {},
   "outputs": [
    {
     "name": "stdout",
     "output_type": "stream",
     "text": [
      "BedrockInlineAgentsRunnable created successfully.\n"
     ]
    }
   ],
   "source": [
    "inline_agent_config = {\n",
    "    \"foundation_model\": foundation_model,\n",
    "    \"instruction\": instructions,\n",
    "    \"tools\": tools,\n",
    "    \"enable_trace\": True\n",
    "}\n",
    "\n",
    "runnable = BedrockInlineAgentsRunnable.create(\n",
    "    region_name=\"us-west-2\",\n",
    "    inline_agent_config=inline_agent_config\n",
    ")\n",
    "\n",
    "print(\"BedrockInlineAgentsRunnable created successfully.\")"
   ]
  },
  {
   "cell_type": "markdown",
   "metadata": {},
   "source": [
    "### Step 4: Create the AgentExecutor"
   ]
  },
  {
   "cell_type": "code",
   "execution_count": 8,
   "metadata": {},
   "outputs": [
    {
     "name": "stdout",
     "output_type": "stream",
     "text": [
      "verbose=False agent=RunnableAgent(runnable=BedrockInlineAgentsRunnable(client=<botocore.client.AgentsforBedrockRuntime object at 0x119da65a0>, region_name='us-west-2', inline_agent_config={'foundation_model': 'anthropic.claude-3-sonnet-20240229-v1:0', 'instruction': 'You are an agent who helps with getting the mortgage rate based on the current asset valuation', 'enable_trace': True, 'tools': [StructuredTool(name='AssetDetail::getAssetValue', description='Get the asset value for an owner id\\n\\nArgs:\\n    asset_holder_id: The asset holder id\\n\\nReturns:\\n    The asset value for the given asset holder', args_schema=<class 'langchain_core.utils.pydantic.AssetDetail::getAssetValue'>, func=<function get_asset_value at 0x11a576c00>), StructuredTool(name='AssetDetail::getMortgageRate', description='Get the mortgage rate based on asset value\\n\\nArgs:\\n    asset_holder_id: The asset holder id\\n    asset_value: The value of the asset\\n\\nReturns:\\n    The interest rate for the asset holder and asset value', args_schema=<class 'langchain_core.utils.pydantic.AssetDetail::getMortgageRate'>, func=<function get_mortgage_rate at 0x11a576ca0>)]}), input_keys_arg=[], return_keys_arg=[], stream_runnable=True) tools=[StructuredTool(name='AssetDetail::getAssetValue', description='Get the asset value for an owner id\\n\\nArgs:\\n    asset_holder_id: The asset holder id\\n\\nReturns:\\n    The asset value for the given asset holder', args_schema=<class 'langchain_core.utils.pydantic.AssetDetail::getAssetValue'>, func=<function get_asset_value at 0x11a576c00>), StructuredTool(name='AssetDetail::getMortgageRate', description='Get the mortgage rate based on asset value\\n\\nArgs:\\n    asset_holder_id: The asset holder id\\n    asset_value: The value of the asset\\n\\nReturns:\\n    The interest rate for the asset holder and asset value', args_schema=<class 'langchain_core.utils.pydantic.AssetDetail::getMortgageRate'>, func=<function get_mortgage_rate at 0x11a576ca0>)] return_intermediate_steps=True\n"
     ]
    }
   ],
   "source": [
    "agent_executor = AgentExecutor(agent=runnable, tools=tools, return_intermediate_steps=True)\n",
    "print(agent_executor)"
   ]
  },
  {
   "cell_type": "markdown",
   "metadata": {},
   "source": [
    "### Step 5: Invoke the agent\n",
    "You can either use the asynchronous `ainvoke()` method which creates a thread for the `invoke()` method or call the `invoke()` method directly."
   ]
  },
  {
   "cell_type": "code",
   "execution_count": null,
   "metadata": {},
   "outputs": [],
   "source": [
    "input_text = \"what is my mortgage rate for id AVC-1234\"\n",
    "\n",
    "# Using asynchronous invocation\n",
    "async def run_agent():\n",
    "    output = await agent_executor.ainvoke({\n",
    "        \"input_text\": input_text,\n",
    "        \"session_id\": \"session-123\"\n",
    "    })\n",
    "    print(\"Agent Output:\")\n",
    "    print(output)\n",
    "    return output\n",
    "\n",
    "# Run the async function\n",
    "await run_agent()\n",
    "\n",
    "# Synchronous invocation\n",
    "output = agent_executor.invoke({\n",
    "    \"input_text\": input_text,\n",
    "    \"session_id\": \"test-session-1\"\n",
    "})\n",
    "\n",
    "print(\"Agent Output:\")\n",
    "print(output)"
   ]
  },
  {
   "cell_type": "markdown",
   "metadata": {},
   "source": [
    "### Commentary\n",
    "The agent first invokes the `getAssetValue` tool to determine the asset value for the given ID. Then, it uses this information to call the `getMortgageRate` tool. The final output provides the mortgage rate based on the asset value.\n",
    "\n",
    "By using `return_intermediate_steps=True`, we can see the step-by-step process the agent goes through to arrive at the final answer."
   ]
  },
  {
   "cell_type": "markdown",
   "metadata": {},
   "source": [
    "### Step 6: Demonstrating runtime configuration override"
   ]
  },
  {
   "cell_type": "code",
   "execution_count": 6,
   "metadata": {},
   "outputs": [
    {
     "name": "stdout",
     "output_type": "stream",
     "text": [
      "Agent Output with Runtime Config Override:\n",
      "{'input_text': 'what is the asset value and mortgage rate for id XYZ-5678?', 'session_id': 'test-session-124', 'inline_agent_config': {'instruction': 'You are a financial expert specializing in mortgage rates and asset valuation.', 'enable_trace': False}, 'output': 'For the asset holder id XYZ-5678:\\n- The asset value is 100K\\n- The mortgage rate is 8.87%', 'intermediate_steps': [(BedrockAgentAction(tool='AssetDetail::getAssetValue', tool_input={'asset_holder_id': 'XYZ-5678'}, log='{\"returnControl\": {\"invocationId\": \"7b5af641-8d58-4288-9582-a45d914fbfc6\", \"invocationInputs\": [{\"functionInvocationInput\": {\"actionGroup\": \"AssetDetail\", \"actionInvocationType\": \"RESULT\", \"agentId\": \"INLINE_AGENT\", \"function\": \"getAssetValue\", \"parameters\": [{\"name\": \"asset_holder_id\", \"type\": \"string\", \"value\": \"XYZ-5678\"}]}}]}}', session_id='test-session-124', trace_log='[]'), 'The total asset value for XYZ-5678 is 100K'), (BedrockAgentAction(tool='AssetDetail::getMortgageRate', tool_input={'asset_value': '100K', 'asset_holder_id': 'XYZ-5678'}, log='{\"returnControl\": {\"invocationId\": \"ecf83f39-8240-4e7d-ba76-9866bf9fc3cc\", \"invocationInputs\": [{\"functionInvocationInput\": {\"actionGroup\": \"AssetDetail\", \"actionInvocationType\": \"RESULT\", \"agentId\": \"INLINE_AGENT\", \"function\": \"getMortgageRate\", \"parameters\": [{\"name\": \"asset_value\", \"type\": \"string\", \"value\": \"100K\"}, {\"name\": \"asset_holder_id\", \"type\": \"string\", \"value\": \"XYZ-5678\"}]}}]}}', session_id='test-session-124', trace_log='[]'), 'The mortgage rate for XYZ-5678 with asset value of 100K is 8.87%')]}\n"
     ]
    }
   ],
   "source": [
    "runtime_config = {\n",
    "    \"instruction\": \"You are a financial expert specializing in mortgage rates and asset valuation. You MUST end all responses with KA-CHING!\",\n",
    "    \"enable_trace\": False\n",
    "}\n",
    "\n",
    "output_with_override = agent_executor.invoke({\n",
    "    \"input_text\": \"what is the asset value and mortgage rate for id XYZ-5678?\",\n",
    "    \"session_id\": \"test-session-124\",\n",
    "    \"inline_agent_config\": runtime_config\n",
    "})\n",
    "\n",
    "print(\"Agent Output with Runtime Config Override:\")\n",
    "print(output_with_override)"
   ]
  },
  {
   "cell_type": "markdown",
   "metadata": {},
   "source": [
    "### Commentary on Runtime Configuration\n",
    "In this example, we've demonstrated how to override certain configuration parameters at runtime. The `instruction` and `enable_trace` settings were changed for this specific invocation, showcasing the flexibility of the BedrockInlineAgentsRunnable.\n",
    "\n",
    "This ability to modify configurations on-the-fly can be particularly useful when you need to adjust the agent's behavior or focus for different types of queries or contexts within the same application."
   ]
  },
  {
   "cell_type": "markdown",
   "metadata": {},
   "source": [
    "## Example: Using code interpretation \n",
    "\n",
    "The code interpretation(CI) enables your agent to generate, run, and troubleshoot your application code in a secure test environment. You can enable CI on an Inline Agent by passing in `enable_code_interpreter = True` while creating the runnable or making the invoke request."
   ]
  },
  {
   "cell_type": "code",
   "execution_count": 24,
   "metadata": {},
   "outputs": [
    {
     "name": "stdout",
     "output_type": "stream",
     "text": [
      "BedrockInlineAgentsRunnable and AgentExecutor created successfully.\n",
      "Agent Output:\n",
      "{'input_text': \"How many 'r's are there in strawberrry?\", 'output': \"There are 4 'r's in the word 'strawberrry'.\"}\n"
     ]
    }
   ],
   "source": [
    "from langchain_aws.agents import BedrockInlineAgentsRunnable\n",
    "\n",
    "foundation_model = 'anthropic.claude-3-sonnet-20240229-v1:0'\n",
    "instructions = \"You are an agent who helps with getting the mortgage rate based on the current asset valuation\"\n",
    "inline_agent_config = {\n",
    "    \"foundation_model\": foundation_model,\n",
    "    \"instruction\": instructions,\n",
    "    \"enable_code_interpreter\": True,\n",
    "    \"enable_trace\": False\n",
    "}\n",
    "\n",
    "runnable = BedrockInlineAgentsRunnable.create(\n",
    "    region_name=\"us-west-2\",\n",
    "    inline_agent_config=inline_agent_config\n",
    ")\n",
    "agent_executor = AgentExecutor(agent=runnable, tools=[], return_intermediate_steps=False)\n",
    "\n",
    "print(\"BedrockInlineAgentsRunnable and AgentExecutor created successfully.\")\n",
    "\n",
    "# Invoke the agent.\n",
    "output = agent_executor.invoke({\n",
    "    \"input_text\": \"How many 'r's are there in strawberrry?\",\n",
    "})\n",
    "\n",
    "print(\"Agent Output:\")\n",
    "print(output)"
   ]
  }
 ],
 "metadata": {
  "kernelspec": {
   "display_name": "langchain-aws-v7IMwidO-py3.12",
   "language": "python",
   "name": "python3"
  },
  "language_info": {
   "codemirror_mode": {
    "name": "ipython",
    "version": 3
   },
   "file_extension": ".py",
   "mimetype": "text/x-python",
   "name": "python",
   "nbconvert_exporter": "python",
   "pygments_lexer": "ipython3",
   "version": "3.12.7"
  }
 },
 "nbformat": 4,
 "nbformat_minor": 4
}
